{
 "cells": [
  {
   "cell_type": "code",
   "execution_count": 1,
   "metadata": {
    "collapsed": true
   },
   "outputs": [],
   "source": [
    "%load_ext autoreload\n",
    "%autoreload 2"
   ]
  },
  {
   "cell_type": "code",
   "execution_count": 22,
   "metadata": {
    "collapsed": true
   },
   "outputs": [],
   "source": [
    "import os\n",
    "import glob\n",
    "import re\n",
    "import pymongo\n",
    "import yaml\n",
    "import src.helper as helper\n"
   ]
  },
  {
   "cell_type": "code",
   "execution_count": 66,
   "metadata": {},
   "outputs": [
    {
     "data": {
      "text/plain": [
       "{'TextbookSource': {'archive': 'CoeusTextSrc_20170906.zip',\n",
       "  'availability': ['Google Drive'],\n",
       "  'path': 'E:\\\\Study\\\\14_LDA\\\\20_Materials\\\\CoeusTextSrc'}}"
      ]
     },
     "execution_count": 66,
     "metadata": {},
     "output_type": "execute_result"
    }
   ],
   "source": [
    "config = yaml.load(open(\"config.yaml\", \"r\").read())\n",
    "textbook_src = config[\"TextbookSource\"][\"path\"]\n",
    "config"
   ]
  },
  {
   "cell_type": "markdown",
   "metadata": {},
   "source": [
    "# Build text data in to database"
   ]
  },
  {
   "cell_type": "code",
   "execution_count": 83,
   "metadata": {},
   "outputs": [],
   "source": [
    "from pymongo import MongoClient\n",
    "client = MongoClient()\n",
    "if \"textbooks\" in client.database_names():\n",
    "    client.drop_database(\"textbooks\")\n",
    "db = client.textbooks\n",
    "corpus = db.corpus"
   ]
  },
  {
   "cell_type": "code",
   "execution_count": 84,
   "metadata": {},
   "outputs": [
    {
     "name": "stdout",
     "output_type": "stream",
     "text": [
      "insert 1307 text into database\n"
     ]
    }
   ],
   "source": [
    "fname_pat = re.compile(\"(?P<version>.*?)_(?P<subject>.*?)_G\\d_(?P<semester>.*?)_.*\")\n",
    "txt_files = glob.glob(textbook_src + \"/*.txt\")\n",
    "dataObj = []\n",
    "for txt_path in txt_files:\n",
    "    basename = os.path.basename(txt_path)\n",
    "    fname_mat = fname_pat.match(basename)    \n",
    "    if not fname_mat:\n",
    "        print(txt_path)\n",
    "    textObj = helper.parse_text_file(txt_path)\n",
    "    textObj.update(fname_mat.groupdict())\n",
    "    dataObj.append(textObj)\n",
    "ret = corpus.insert_many(dataObj)    \n",
    "print(\"insert %d text into database\" % len(ret.inserted_ids))"
   ]
  },
  {
   "cell_type": "code",
   "execution_count": 79,
   "metadata": {},
   "outputs": [
    {
     "data": {
      "text/plain": [
       "{'_id': ObjectId('59af956c1175b70be073e5b0'),\n",
       " 'numgrade': 1,\n",
       " 'numlesson': 1,\n",
       " 'semester': '0982',\n",
       " 'strtitle': '一\\u3000春雨',\n",
       " 'subject': 'Chinese',\n",
       " 'text': '下雨了！下雨了！\\n種子說：「下吧！下吧！我們要發芽。」小草說：「下吧！下吧！我們要長大。」\\n桃樹說：「下吧！下吧！我們要開花。」\\n下雨了！下雨了！大家都說：「春天的小雨，真好！」',\n",
       " 'version': 'HanLin'}"
      ]
     },
     "execution_count": 79,
     "metadata": {},
     "output_type": "execute_result"
    }
   ],
   "source": [
    "corpus.find_one({})"
   ]
  },
  {
   "cell_type": "code",
   "execution_count": 82,
   "metadata": {},
   "outputs": [
    {
     "data": {
      "text/plain": [
       "[{'_id': ObjectId('59af956c1175b70be073e5b0'), 'strtitle': '一\\u3000春雨'},\n",
       " {'_id': ObjectId('59af956c1175b70be073e5be'), 'strtitle': '一、木頭人'},\n",
       " {'_id': ObjectId('59af956c1175b70be073e74f'), 'strtitle': '一 小樹 黃長安'},\n",
       " {'_id': ObjectId('59af956c1175b70be073e75d'), 'strtitle': '拍拍手'},\n",
       " {'_id': ObjectId('59af956c1175b70be073e8e0'), 'strtitle': '小熊過冬'},\n",
       " {'_id': ObjectId('59af956c1175b70be073e8ec'), 'strtitle': '一 手拉手'},\n",
       " {'_id': ObjectId('59af956c1175b70be073e5b6'), 'strtitle': '二\\u3000找春天'},\n",
       " {'_id': ObjectId('59af956c1175b70be073e5bf'), 'strtitle': '雲和花'},\n",
       " {'_id': ObjectId('59af956c1175b70be073e755'), 'strtitle': '二 我要長大'},\n",
       " {'_id': ObjectId('59af956c1175b70be073e75e'), 'strtitle': '吹泡泡'}]"
      ]
     },
     "execution_count": 82,
     "metadata": {},
     "output_type": "execute_result"
    }
   ],
   "source": [
    "list(corpus.find({\"subject\": {\"$eq\": \"Chinese\"}}, {\"strtitle\": 1}).sort([(\"numgrade\", 1), (\"numlesson\", 1)]).limit(10))"
   ]
  },
  {
   "cell_type": "code",
   "execution_count": null,
   "metadata": {
    "collapsed": true
   },
   "outputs": [],
   "source": []
  }
 ],
 "metadata": {
  "kernelspec": {
   "display_name": "Python 3",
   "language": "python",
   "name": "python3"
  },
  "language_info": {
   "codemirror_mode": {
    "name": "ipython",
    "version": 3
   },
   "file_extension": ".py",
   "mimetype": "text/x-python",
   "name": "python",
   "nbconvert_exporter": "python",
   "pygments_lexer": "ipython3",
   "version": "3.6.1"
  }
 },
 "nbformat": 4,
 "nbformat_minor": 2
}
