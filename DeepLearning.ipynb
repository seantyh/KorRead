{
 "cells": [
  {
   "cell_type": "code",
   "execution_count": 1,
   "metadata": {
    "collapsed": true
   },
   "outputs": [],
   "source": [
    "%load_ext autoreload\n",
    "%autoreload 2"
   ]
  },
  {
   "cell_type": "code",
   "execution_count": 25,
   "metadata": {
    "collapsed": true
   },
   "outputs": [],
   "source": [
    "import os\n",
    "import glob\n",
    "import re\n",
    "import yaml\n",
    "import src.helper as helper\n",
    "import numpy as np\n",
    "from pymongo import MongoClient"
   ]
  },
  {
   "cell_type": "code",
   "execution_count": 18,
   "metadata": {},
   "outputs": [
    {
     "data": {
      "text/plain": [
       "{'Embeddings': {'datapath': 'data/as4_char_vec_norm.bytes',\n",
       "  'embed_dim': 100,\n",
       "  'format': 'numpy data',\n",
       "  'vocab_size': 4586,\n",
       "  'vocabpath': 'data/as4_char_vocab_norm.tsv'},\n",
       " 'TextbookSource': {'archive': 'CoeusTextSrc_20170906.zip',\n",
       "  'availability': ['Google Drive'],\n",
       "  'path': 'E:\\\\Study\\\\14_LDA\\\\20_Materials\\\\CoeusTextSrc'}}"
      ]
     },
     "execution_count": 18,
     "metadata": {},
     "output_type": "execute_result"
    }
   ],
   "source": [
    "config = yaml.load(open(\"config.yaml\", \"r\").read())\n",
    "config"
   ]
  },
  {
   "cell_type": "code",
   "execution_count": 8,
   "metadata": {},
   "outputs": [
    {
     "name": "stdout",
     "output_type": "stream",
     "text": [
      "1307 entries in database\n"
     ]
    }
   ],
   "source": [
    "client = MongoClient()\n",
    "db = client.textbooks\n",
    "corpus = db.corpus\n",
    "print(\"%d entries in database\" % corpus.find().count())"
   ]
  },
  {
   "cell_type": "markdown",
   "metadata": {},
   "source": [
    "# build text sequence"
   ]
  },
  {
   "cell_type": "code",
   "execution_count": 14,
   "metadata": {},
   "outputs": [
    {
     "data": {
      "text/plain": [
       "'我是愛旅行的黑面琵鷺，在秋葉飄落的季節，從遙遠的北方，攜帶家眷，歷經艱難危險，飛過萬水千山，終於來到溫暖的台灣。\\n在寬廣的曾文溪口，有蒼翠的綠林，有可愛的魚蝦，迎風搖曳的馬鞍藤向我招手，害羞的招潮蟹愛和我捉迷藏，我展翅迎向溫暖的世界，\\n感受大地熱情的擁抱。'"
      ]
     },
     "execution_count": 14,
     "metadata": {},
     "output_type": "execute_result"
    }
   ],
   "source": [
    "text = corpus.find_one({\"numgrade\": {\"$eq\": 4}, \"subject\": {\"$eq\": \"Chinese\"}}, {\"text\":1})[\"text\"]\n",
    "text"
   ]
  },
  {
   "cell_type": "code",
   "execution_count": null,
   "metadata": {
    "collapsed": true
   },
   "outputs": [],
   "source": [
    "vocab_size = config[\"Embeddings\"][\"vocab_size\"]\n",
    "embed_dim = config[\"Embeddings\"][\"embed_dim\"]\n",
    "embmat = np.fromfile(config[\"Embeddings\"][\"datapath\"], dtype=np.float32).reshape((vocab_size, embed_dim))\n",
    "vocab_lines = open(config[\"Embeddings\"][\"vocabpath\"], \"r\", encoding=\"UTF-8\").readlines()\n",
    "vocab = [\"\"] * vocab_size\n",
    "for i, x in enumerate(vocab_lines[1:]):\n",
    "    vocab[i] = x.split(\"\\t\")[0].strip()"
   ]
  },
  {
   "cell_type": "code",
   "execution_count": 27,
   "metadata": {},
   "outputs": [
    {
     "data": {
      "text/plain": [
       "[9,\n",
       " 4,\n",
       " 359,\n",
       " 774,\n",
       " 64,\n",
       " 2,\n",
       " 731,\n",
       " 99,\n",
       " 2586,\n",
       " 2395,\n",
       " 1,\n",
       " 7,\n",
       " 1186,\n",
       " 951,\n",
       " 1828,\n",
       " 576,\n",
       " 2,\n",
       " 1028,\n",
       " 524,\n",
       " 1,\n",
       " 169,\n",
       " 1764,\n",
       " 489,\n",
       " 2,\n",
       " 243,\n",
       " 59,\n",
       " 1,\n",
       " 2049,\n",
       " 377,\n",
       " 47,\n",
       " 2377,\n",
       " 1,\n",
       " 543,\n",
       " 67,\n",
       " 2034,\n",
       " 348,\n",
       " 1013,\n",
       " 865,\n",
       " 1,\n",
       " 623,\n",
       " 56,\n",
       " 332,\n",
       " 207,\n",
       " 427,\n",
       " 282,\n",
       " 1,\n",
       " 700,\n",
       " 45,\n",
       " 20,\n",
       " 26,\n",
       " 892,\n",
       " 1651,\n",
       " 2,\n",
       " 101,\n",
       " 179,\n",
       " 7,\n",
       " 1098,\n",
       " 506,\n",
       " 2,\n",
       " 477,\n",
       " 123,\n",
       " 1269,\n",
       " 333,\n",
       " 1,\n",
       " 6,\n",
       " 2219,\n",
       " 1958,\n",
       " 2,\n",
       " 1088,\n",
       " 373,\n",
       " 1,\n",
       " 6,\n",
       " 30,\n",
       " 359,\n",
       " 2,\n",
       " 883,\n",
       " 2532,\n",
       " 1,\n",
       " 1037,\n",
       " 355,\n",
       " 1337,\n",
       " 3254,\n",
       " 2,\n",
       " 497,\n",
       " 3736,\n",
       " 2426,\n",
       " 248,\n",
       " 9,\n",
       " 1034,\n",
       " 227,\n",
       " 1,\n",
       " 684,\n",
       " 2178,\n",
       " 2,\n",
       " 1034,\n",
       " 1080,\n",
       " 2665,\n",
       " 359,\n",
       " 65,\n",
       " 9,\n",
       " 1719,\n",
       " 1032,\n",
       " 1070,\n",
       " 1,\n",
       " 9,\n",
       " 238,\n",
       " 2318,\n",
       " 1037,\n",
       " 248,\n",
       " 892,\n",
       " 1651,\n",
       " 2,\n",
       " 283,\n",
       " 305,\n",
       " 1,\n",
       " 245,\n",
       " 236,\n",
       " 12,\n",
       " 41,\n",
       " 605,\n",
       " 138,\n",
       " 2,\n",
       " 1009,\n",
       " 1152]"
      ]
     },
     "execution_count": 27,
     "metadata": {},
     "output_type": "execute_result"
    }
   ],
   "source": [
    "helper.generate_text_sequence(text, vocab)"
   ]
  },
  {
   "cell_type": "markdown",
   "metadata": {},
   "source": [
    "# Build Network"
   ]
  },
  {
   "cell_type": "code",
   "execution_count": null,
   "metadata": {
    "collapsed": true
   },
   "outputs": [],
   "source": []
  }
 ],
 "metadata": {
  "kernelspec": {
   "display_name": "Python 3",
   "language": "python",
   "name": "python3"
  },
  "language_info": {
   "codemirror_mode": {
    "name": "ipython",
    "version": 3
   },
   "file_extension": ".py",
   "mimetype": "text/x-python",
   "name": "python",
   "nbconvert_exporter": "python",
   "pygments_lexer": "ipython3",
   "version": "3.6.1"
  }
 },
 "nbformat": 4,
 "nbformat_minor": 2
}
